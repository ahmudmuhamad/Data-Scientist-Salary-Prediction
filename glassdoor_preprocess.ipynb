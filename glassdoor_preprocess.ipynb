{
 "cells": [
  {
   "cell_type": "markdown",
   "metadata": {},
   "source": [
    "# **Salary Insights: Predicting Data Analytics Salaries**\n"
   ]
  },
  {
   "cell_type": "markdown",
   "metadata": {},
   "source": [
    "<h1>Glassdoor Jobs Dataset</h1>\n",
    "\n",
    "| Column Name | Description |\n",
    "|---|---|\n",
    "| Job Title | The specific job position advertised. |\n",
    "| Salary Estimate | The estimated salary range for the position, including minimum and maximum values, as well as hourly or annual rates. |\n",
    "| Job Description | A detailed description of the job responsibilities, qualifications, and requirements. |\n",
    "| Rating | The rating given to the company by its employees (1 --> 5). |\n",
    "| Company Name | The name of the company posting the job. |\n",
    "| Location | The city, state, and country where the job is located. |\n",
    "| Headquarters | The location of the company's headquarters. |\n",
    "| Size | The estimated size of the company (e.g., estimated range of Number of employees). |\n",
    "| Founded | The year the company was founded. |\n",
    "| Type of ownership | The type of ownership (e.g., public, private, government). |\n",
    "| Industry | The industry sector in which the company operates (e.g., technology, healthcare, finance). |\n",
    "| Sector | A broader category that groups related industries (e.g., technology, healthcare, manufacturing). |\n",
    "| Revenue | estimated range of company revenue. |\n",
    "| Competitors | A list of the company's main competitors. |"
   ]
  },
  {
   "cell_type": "code",
   "execution_count": 1,
   "metadata": {},
   "outputs": [],
   "source": [
    "#Importing libraries\n",
    "import pandas as pd\n",
    "import seaborn as sns \n",
    "import matplotlib.pyplot as plt \n",
    "import numpy as np \n",
    "import re"
   ]
  },
  {
   "cell_type": "code",
   "execution_count": 2,
   "metadata": {},
   "outputs": [
    {
     "data": {
      "text/html": [
       "<div>\n",
       "<style scoped>\n",
       "    .dataframe tbody tr th:only-of-type {\n",
       "        vertical-align: middle;\n",
       "    }\n",
       "\n",
       "    .dataframe tbody tr th {\n",
       "        vertical-align: top;\n",
       "    }\n",
       "\n",
       "    .dataframe thead th {\n",
       "        text-align: right;\n",
       "    }\n",
       "</style>\n",
       "<table border=\"1\" class=\"dataframe\">\n",
       "  <thead>\n",
       "    <tr style=\"text-align: right;\">\n",
       "      <th></th>\n",
       "      <th>Unnamed: 0</th>\n",
       "      <th>Job Title</th>\n",
       "      <th>Salary Estimate</th>\n",
       "      <th>Job Description</th>\n",
       "      <th>Rating</th>\n",
       "      <th>Company Name</th>\n",
       "      <th>Location</th>\n",
       "      <th>Headquarters</th>\n",
       "      <th>Size</th>\n",
       "      <th>Founded</th>\n",
       "      <th>Type of ownership</th>\n",
       "      <th>Industry</th>\n",
       "      <th>Sector</th>\n",
       "      <th>Revenue</th>\n",
       "      <th>Competitors</th>\n",
       "    </tr>\n",
       "  </thead>\n",
       "  <tbody>\n",
       "    <tr>\n",
       "      <th>0</th>\n",
       "      <td>0</td>\n",
       "      <td>Data Scientist</td>\n",
       "      <td>$53K-$91K (Glassdoor est.)</td>\n",
       "      <td>Data Scientist\\nLocation: Albuquerque, NM\\nEdu...</td>\n",
       "      <td>3.8</td>\n",
       "      <td>Tecolote Research\\n3.8</td>\n",
       "      <td>Albuquerque, NM</td>\n",
       "      <td>Goleta, CA</td>\n",
       "      <td>501 to 1000 employees</td>\n",
       "      <td>1973</td>\n",
       "      <td>Company - Private</td>\n",
       "      <td>Aerospace &amp; Defense</td>\n",
       "      <td>Aerospace &amp; Defense</td>\n",
       "      <td>$50 to $100 million (USD)</td>\n",
       "      <td>-1</td>\n",
       "    </tr>\n",
       "    <tr>\n",
       "      <th>1</th>\n",
       "      <td>1</td>\n",
       "      <td>Healthcare Data Scientist</td>\n",
       "      <td>$63K-$112K (Glassdoor est.)</td>\n",
       "      <td>What You Will Do:\\n\\nI. General Summary\\n\\nThe...</td>\n",
       "      <td>3.4</td>\n",
       "      <td>University of Maryland Medical System\\n3.4</td>\n",
       "      <td>Linthicum, MD</td>\n",
       "      <td>Baltimore, MD</td>\n",
       "      <td>10000+ employees</td>\n",
       "      <td>1984</td>\n",
       "      <td>Other Organization</td>\n",
       "      <td>Health Care Services &amp; Hospitals</td>\n",
       "      <td>Health Care</td>\n",
       "      <td>$2 to $5 billion (USD)</td>\n",
       "      <td>-1</td>\n",
       "    </tr>\n",
       "    <tr>\n",
       "      <th>2</th>\n",
       "      <td>2</td>\n",
       "      <td>Data Scientist</td>\n",
       "      <td>$80K-$90K (Glassdoor est.)</td>\n",
       "      <td>KnowBe4, Inc. is a high growth information sec...</td>\n",
       "      <td>4.8</td>\n",
       "      <td>KnowBe4\\n4.8</td>\n",
       "      <td>Clearwater, FL</td>\n",
       "      <td>Clearwater, FL</td>\n",
       "      <td>501 to 1000 employees</td>\n",
       "      <td>2010</td>\n",
       "      <td>Company - Private</td>\n",
       "      <td>Security Services</td>\n",
       "      <td>Business Services</td>\n",
       "      <td>$100 to $500 million (USD)</td>\n",
       "      <td>-1</td>\n",
       "    </tr>\n",
       "    <tr>\n",
       "      <th>3</th>\n",
       "      <td>3</td>\n",
       "      <td>Data Scientist</td>\n",
       "      <td>$56K-$97K (Glassdoor est.)</td>\n",
       "      <td>*Organization and Job ID**\\nJob ID: 310709\\n\\n...</td>\n",
       "      <td>3.8</td>\n",
       "      <td>PNNL\\n3.8</td>\n",
       "      <td>Richland, WA</td>\n",
       "      <td>Richland, WA</td>\n",
       "      <td>1001 to 5000 employees</td>\n",
       "      <td>1965</td>\n",
       "      <td>Government</td>\n",
       "      <td>Energy</td>\n",
       "      <td>Oil, Gas, Energy &amp; Utilities</td>\n",
       "      <td>$500 million to $1 billion (USD)</td>\n",
       "      <td>Oak Ridge National Laboratory, National Renewa...</td>\n",
       "    </tr>\n",
       "    <tr>\n",
       "      <th>4</th>\n",
       "      <td>4</td>\n",
       "      <td>Data Scientist</td>\n",
       "      <td>$86K-$143K (Glassdoor est.)</td>\n",
       "      <td>Data Scientist\\nAffinity Solutions / Marketing...</td>\n",
       "      <td>2.9</td>\n",
       "      <td>Affinity Solutions\\n2.9</td>\n",
       "      <td>New York, NY</td>\n",
       "      <td>New York, NY</td>\n",
       "      <td>51 to 200 employees</td>\n",
       "      <td>1998</td>\n",
       "      <td>Company - Private</td>\n",
       "      <td>Advertising &amp; Marketing</td>\n",
       "      <td>Business Services</td>\n",
       "      <td>Unknown / Non-Applicable</td>\n",
       "      <td>Commerce Signals, Cardlytics, Yodlee</td>\n",
       "    </tr>\n",
       "  </tbody>\n",
       "</table>\n",
       "</div>"
      ],
      "text/plain": [
       "   Unnamed: 0                  Job Title              Salary Estimate  \\\n",
       "0           0             Data Scientist   $53K-$91K (Glassdoor est.)   \n",
       "1           1  Healthcare Data Scientist  $63K-$112K (Glassdoor est.)   \n",
       "2           2             Data Scientist   $80K-$90K (Glassdoor est.)   \n",
       "3           3             Data Scientist   $56K-$97K (Glassdoor est.)   \n",
       "4           4             Data Scientist  $86K-$143K (Glassdoor est.)   \n",
       "\n",
       "                                     Job Description  Rating  \\\n",
       "0  Data Scientist\\nLocation: Albuquerque, NM\\nEdu...     3.8   \n",
       "1  What You Will Do:\\n\\nI. General Summary\\n\\nThe...     3.4   \n",
       "2  KnowBe4, Inc. is a high growth information sec...     4.8   \n",
       "3  *Organization and Job ID**\\nJob ID: 310709\\n\\n...     3.8   \n",
       "4  Data Scientist\\nAffinity Solutions / Marketing...     2.9   \n",
       "\n",
       "                                 Company Name         Location  \\\n",
       "0                      Tecolote Research\\n3.8  Albuquerque, NM   \n",
       "1  University of Maryland Medical System\\n3.4    Linthicum, MD   \n",
       "2                                KnowBe4\\n4.8   Clearwater, FL   \n",
       "3                                   PNNL\\n3.8     Richland, WA   \n",
       "4                     Affinity Solutions\\n2.9     New York, NY   \n",
       "\n",
       "     Headquarters                    Size  Founded   Type of ownership  \\\n",
       "0      Goleta, CA   501 to 1000 employees     1973   Company - Private   \n",
       "1   Baltimore, MD        10000+ employees     1984  Other Organization   \n",
       "2  Clearwater, FL   501 to 1000 employees     2010   Company - Private   \n",
       "3    Richland, WA  1001 to 5000 employees     1965          Government   \n",
       "4    New York, NY     51 to 200 employees     1998   Company - Private   \n",
       "\n",
       "                           Industry                        Sector  \\\n",
       "0               Aerospace & Defense           Aerospace & Defense   \n",
       "1  Health Care Services & Hospitals                   Health Care   \n",
       "2                 Security Services             Business Services   \n",
       "3                            Energy  Oil, Gas, Energy & Utilities   \n",
       "4           Advertising & Marketing             Business Services   \n",
       "\n",
       "                            Revenue  \\\n",
       "0         $50 to $100 million (USD)   \n",
       "1            $2 to $5 billion (USD)   \n",
       "2        $100 to $500 million (USD)   \n",
       "3  $500 million to $1 billion (USD)   \n",
       "4          Unknown / Non-Applicable   \n",
       "\n",
       "                                         Competitors  \n",
       "0                                                 -1  \n",
       "1                                                 -1  \n",
       "2                                                 -1  \n",
       "3  Oak Ridge National Laboratory, National Renewa...  \n",
       "4               Commerce Signals, Cardlytics, Yodlee  "
      ]
     },
     "execution_count": 2,
     "metadata": {},
     "output_type": "execute_result"
    }
   ],
   "source": [
    "#Reading the data\n",
    "df = pd.read_csv('glassdoor_jobs.csv')\n",
    "df.head()"
   ]
  },
  {
   "cell_type": "code",
   "execution_count": 3,
   "metadata": {},
   "outputs": [
    {
     "data": {
      "text/plain": [
       "(956, 15)"
      ]
     },
     "execution_count": 3,
     "metadata": {},
     "output_type": "execute_result"
    }
   ],
   "source": [
    "df.shape"
   ]
  },
  {
   "cell_type": "code",
   "execution_count": 4,
   "metadata": {},
   "outputs": [],
   "source": [
    "# Remove rows where 'Salary Estimate' is -1, indicating missing or invalid data\n",
    "df = df[df['Salary Estimate'] != '-1']"
   ]
  },
  {
   "cell_type": "code",
   "execution_count": 5,
   "metadata": {},
   "outputs": [
    {
     "data": {
      "text/plain": [
       "(742, 15)"
      ]
     },
     "execution_count": 5,
     "metadata": {},
     "output_type": "execute_result"
    }
   ],
   "source": [
    "df.shape"
   ]
  },
  {
   "cell_type": "code",
   "execution_count": 6,
   "metadata": {},
   "outputs": [
    {
     "data": {
      "text/plain": [
       "Unnamed: 0           0\n",
       "Job Title            0\n",
       "Salary Estimate      0\n",
       "Job Description      0\n",
       "Rating               0\n",
       "Company Name         0\n",
       "Location             0\n",
       "Headquarters         0\n",
       "Size                 0\n",
       "Founded              0\n",
       "Type of ownership    0\n",
       "Industry             0\n",
       "Sector               0\n",
       "Revenue              0\n",
       "Competitors          0\n",
       "dtype: int64"
      ]
     },
     "execution_count": 6,
     "metadata": {},
     "output_type": "execute_result"
    }
   ],
   "source": [
    "#Checking Null values\n",
    "df.isnull().sum()"
   ]
  },
  {
   "cell_type": "code",
   "execution_count": 7,
   "metadata": {},
   "outputs": [
    {
     "data": {
      "text/plain": [
       "Index(['Unnamed: 0', 'Job Title', 'Salary Estimate', 'Job Description',\n",
       "       'Rating', 'Company Name', 'Location', 'Headquarters', 'Size', 'Founded',\n",
       "       'Type of ownership', 'Industry', 'Sector', 'Revenue', 'Competitors'],\n",
       "      dtype='object')"
      ]
     },
     "execution_count": 7,
     "metadata": {},
     "output_type": "execute_result"
    }
   ],
   "source": [
    "df.columns"
   ]
  },
  {
   "cell_type": "code",
   "execution_count": 8,
   "metadata": {},
   "outputs": [],
   "source": [
    "df.drop(columns=['Unnamed: 0'], inplace=True)"
   ]
  },
  {
   "cell_type": "code",
   "execution_count": 9,
   "metadata": {},
   "outputs": [
    {
     "data": {
      "text/plain": [
       "Job Title\n",
       "Data Scientist                     131\n",
       "Data Engineer                       53\n",
       "Senior Data Scientist               34\n",
       "Data Analyst                        15\n",
       "Senior Data Engineer                14\n",
       "                                  ... \n",
       "Data Scientist/ML Engineer           1\n",
       "Sr. Data Scientist                   1\n",
       "Data Engineer 4 - Contract           1\n",
       "Data Analyst - Asset Management      1\n",
       "Machine Learning Engineer (NLP)      1\n",
       "Name: count, Length: 264, dtype: int64"
      ]
     },
     "execution_count": 9,
     "metadata": {},
     "output_type": "execute_result"
    }
   ],
   "source": [
    "df['Job Title'].value_counts()"
   ]
  },
  {
   "cell_type": "code",
   "execution_count": 10,
   "metadata": {},
   "outputs": [],
   "source": [
    "def title_simplifier(title):\n",
    "  \"\"\"Simplifies job titles by mapping common job titles to standardized terms.\n",
    "\n",
    "  Args:\n",
    "    title: The job title to simplify.\n",
    "\n",
    "  Returns:\n",
    "    The simplified job title, or 'na' if no match is found.\n",
    "  \"\"\"\n",
    "\n",
    "  title = title.lower()\n",
    "\n",
    "  title_mapping = {\n",
    "      'data scientist': 'Data Scientist',\n",
    "      'data engineer': 'Data Engineer',\n",
    "      'analyst': 'Data Analyst',\n",
    "      'machine learning': 'MLE',\n",
    "      'manager': 'Manager',\n",
    "      'director': 'Director'\n",
    "  }\n",
    "\n",
    "  for key in title_mapping:\n",
    "      if key in title:\n",
    "          return title_mapping[key]\n",
    "\n",
    "  return 'na'\n",
    "\n",
    "df['job_simp'] = df['Job Title'].apply(title_simplifier)"
   ]
  },
  {
   "cell_type": "code",
   "execution_count": 11,
   "metadata": {},
   "outputs": [
    {
     "data": {
      "text/plain": [
       "job_simp\n",
       "Data Scientist    279\n",
       "na                184\n",
       "Data Engineer     119\n",
       "Data Analyst      102\n",
       "Manager            22\n",
       "MLE                22\n",
       "Director           14\n",
       "Name: count, dtype: int64"
      ]
     },
     "execution_count": 11,
     "metadata": {},
     "output_type": "execute_result"
    }
   ],
   "source": [
    "df['job_simp'].value_counts()"
   ]
  },
  {
   "cell_type": "code",
   "execution_count": 13,
   "metadata": {},
   "outputs": [
    {
     "data": {
      "text/plain": [
       "0       $53K-$91K (Glassdoor est.)\n",
       "1      $63K-$112K (Glassdoor est.)\n",
       "2       $80K-$90K (Glassdoor est.)\n",
       "3       $56K-$97K (Glassdoor est.)\n",
       "4      $86K-$143K (Glassdoor est.)\n",
       "                  ...             \n",
       "950    $58K-$111K (Glassdoor est.)\n",
       "951    $72K-$133K (Glassdoor est.)\n",
       "952     $56K-$91K (Glassdoor est.)\n",
       "953    $95K-$160K (Glassdoor est.)\n",
       "955    $61K-$126K (Glassdoor est.)\n",
       "Name: Salary Estimate, Length: 742, dtype: object"
      ]
     },
     "execution_count": 13,
     "metadata": {},
     "output_type": "execute_result"
    }
   ],
   "source": [
    "df['Salary Estimate']"
   ]
  },
  {
   "cell_type": "code",
   "execution_count": 14,
   "metadata": {},
   "outputs": [],
   "source": [
    "# Removing (Glassdoor est.) from the column\n",
    "df['Salary'] = df['Salary Estimate'].apply(lambda x: x.split('(')[0])\n",
    "\n",
    "# Removing '$' and 'K' from the column\n",
    "df['Salary'] = df['Salary'].str.replace('$', '').str.replace('K','')"
   ]
  },
  {
   "cell_type": "code",
   "execution_count": 15,
   "metadata": {},
   "outputs": [
    {
     "data": {
      "text/plain": [
       "0"
      ]
     },
     "execution_count": 15,
     "metadata": {},
     "output_type": "execute_result"
    }
   ],
   "source": [
    "df['Salary'].isnull().sum()"
   ]
  },
  {
   "cell_type": "code",
   "execution_count": 16,
   "metadata": {},
   "outputs": [],
   "source": [
    "#Checking if the salary is hourly paid or not, as it differs in average Salary\n",
    "df['Hourly_Pay'] = df['Salary'].apply(lambda x: 1 if 'per hour' in x.lower() else 0) \n",
    "#Checking if estimated salary is provided by an employer or not\n",
    "df['Employer_Provided'] = df['Salary'].apply(lambda x: 1 if 'employer provided salary' in x.lower() else 0)"
   ]
  },
  {
   "cell_type": "code",
   "execution_count": 17,
   "metadata": {},
   "outputs": [],
   "source": [
    "df['Salary'] = df['Salary'].str.replace('per hour', '', case=False)\n",
    "df['Salary'] = df['Salary'].str.replace('employer provided salary:', '', case=False)"
   ]
  },
  {
   "cell_type": "code",
   "execution_count": 18,
   "metadata": {},
   "outputs": [],
   "source": [
    "#Extracting Average Salary Column from Salary column\n",
    "df['Maximum Salary'] = pd.to_numeric(df['Salary'].apply(lambda x: x.split('-')[1]))\n",
    "df['Minimum Salary'] = pd.to_numeric(df['Salary'].apply(lambda x: x.split('-')[0]))\n",
    "df['Average Salary'] = (df['Minimum Salary'] + df['Maximum Salary']) / 2"
   ]
  },
  {
   "cell_type": "code",
   "execution_count": 19,
   "metadata": {},
   "outputs": [],
   "source": [
    "df['Minimum Salary'] = df.apply(lambda x: x['Minimum Salary'] * 2 if x['Hourly_Pay'] == 1 else x['Minimum Salary'], axis = 1 )\n",
    "df['Maximum Salary'] = df.apply(lambda x: x['Maximum Salary'] * 2 if x['Hourly_Pay'] == 1 else x['Maximum Salary'], axis = 1 )"
   ]
  },
  {
   "cell_type": "code",
   "execution_count": 20,
   "metadata": {},
   "outputs": [
    {
     "data": {
      "text/plain": [
       "0"
      ]
     },
     "execution_count": 20,
     "metadata": {},
     "output_type": "execute_result"
    }
   ],
   "source": [
    "df['Average Salary'].isnull().sum()"
   ]
  },
  {
   "cell_type": "code",
   "execution_count": 21,
   "metadata": {},
   "outputs": [
    {
     "data": {
      "text/plain": [
       "Index(['Job Title', 'Salary Estimate', 'Job Description', 'Rating',\n",
       "       'Company Name', 'Location', 'Headquarters', 'Size', 'Founded',\n",
       "       'Type of ownership', 'Industry', 'Sector', 'Revenue', 'Competitors',\n",
       "       'job_simp', 'Salary', 'Hourly_Pay', 'Employer_Provided',\n",
       "       'Maximum Salary', 'Minimum Salary', 'Average Salary'],\n",
       "      dtype='object')"
      ]
     },
     "execution_count": 21,
     "metadata": {},
     "output_type": "execute_result"
    }
   ],
   "source": [
    "df.columns"
   ]
  },
  {
   "cell_type": "code",
   "execution_count": 22,
   "metadata": {},
   "outputs": [],
   "source": [
    "top_data_science_tools = [\n",
    "    \"Python\",\"Scala\", \"Java\",\"SQL\",\n",
    "    \"Scikit-learn\", \"TensorFlow\", \"Keras\",\n",
    "    \"Matplotlib\", \"Tableau\", \"PowerBI\", \"Plotly\", \"D3.js\",\n",
    "    \"Apache Spark\", \"Hadoop\",\n",
    "    \"AWS\", \"Google Cloud\",\n",
    "    \"Pandas\", \"NumPy\",\"Excel\"\n",
    "]"
   ]
  },
  {
   "cell_type": "code",
   "execution_count": 23,
   "metadata": {},
   "outputs": [],
   "source": [
    "for tool in top_data_science_tools:\n",
    "    df[tool.lower()] = df['Job Description'].apply(lambda x: 1 if tool.lower() in x.lower() else 0)\n",
    "    "
   ]
  },
  {
   "cell_type": "code",
   "execution_count": 24,
   "metadata": {},
   "outputs": [],
   "source": [
    "import re \n",
    "# Create a regular expression pattern from the list of skills\n",
    "skills_pattern = r'\\b(' + '|'.join(top_data_science_tools) + r')\\b'\n",
    "\n",
    "# Function to extract skills\n",
    "def extract_skills(job_description):\n",
    "    skills = re.findall(skills_pattern, job_description)\n",
    "    return list(set(skills))  # Return unique skills\n",
    "\n",
    "# Apply the function to the Job Description column\n",
    "df['Extracted Skills'] = df['Job Description'].apply(extract_skills)"
   ]
  },
  {
   "cell_type": "code",
   "execution_count": 26,
   "metadata": {},
   "outputs": [
    {
     "data": {
      "text/html": [
       "<div>\n",
       "<style scoped>\n",
       "    .dataframe tbody tr th:only-of-type {\n",
       "        vertical-align: middle;\n",
       "    }\n",
       "\n",
       "    .dataframe tbody tr th {\n",
       "        vertical-align: top;\n",
       "    }\n",
       "\n",
       "    .dataframe thead th {\n",
       "        text-align: right;\n",
       "    }\n",
       "</style>\n",
       "<table border=\"1\" class=\"dataframe\">\n",
       "  <thead>\n",
       "    <tr style=\"text-align: right;\">\n",
       "      <th></th>\n",
       "      <th>Job Description</th>\n",
       "      <th>Extracted Skills</th>\n",
       "    </tr>\n",
       "  </thead>\n",
       "  <tbody>\n",
       "    <tr>\n",
       "      <th>0</th>\n",
       "      <td>Data Scientist\\nLocation: Albuquerque, NM\\nEdu...</td>\n",
       "      <td>[Excel, Tableau, Python]</td>\n",
       "    </tr>\n",
       "    <tr>\n",
       "      <th>1</th>\n",
       "      <td>What You Will Do:\\n\\nI. General Summary\\n\\nThe...</td>\n",
       "      <td>[Java, Python]</td>\n",
       "    </tr>\n",
       "    <tr>\n",
       "      <th>2</th>\n",
       "      <td>KnowBe4, Inc. is a high growth information sec...</td>\n",
       "      <td>[Excel, SQL, Python, D3.js]</td>\n",
       "    </tr>\n",
       "    <tr>\n",
       "      <th>3</th>\n",
       "      <td>*Organization and Job ID**\\nJob ID: 310709\\n\\n...</td>\n",
       "      <td>[Python]</td>\n",
       "    </tr>\n",
       "    <tr>\n",
       "      <th>4</th>\n",
       "      <td>Data Scientist\\nAffinity Solutions / Marketing...</td>\n",
       "      <td>[SQL, Python]</td>\n",
       "    </tr>\n",
       "    <tr>\n",
       "      <th>...</th>\n",
       "      <td>...</td>\n",
       "      <td>...</td>\n",
       "    </tr>\n",
       "    <tr>\n",
       "      <th>950</th>\n",
       "      <td>Site Name: USA - Massachusetts - Cambridge\\nPo...</td>\n",
       "      <td>[]</td>\n",
       "    </tr>\n",
       "    <tr>\n",
       "      <th>951</th>\n",
       "      <td>THE CHALLENGE\\nEventbrite has a world-class da...</td>\n",
       "      <td>[AWS, Java, Scala, Python, SQL, Hadoop]</td>\n",
       "    </tr>\n",
       "    <tr>\n",
       "      <th>952</th>\n",
       "      <td>The Auton Lab at Carnegie Mellon University is...</td>\n",
       "      <td>[]</td>\n",
       "    </tr>\n",
       "    <tr>\n",
       "      <th>953</th>\n",
       "      <td>Data Science ManagerResponsibilities:\\n\\nOvers...</td>\n",
       "      <td>[]</td>\n",
       "    </tr>\n",
       "    <tr>\n",
       "      <th>955</th>\n",
       "      <td>Returning Candidate? Log back in to the Career...</td>\n",
       "      <td>[Python]</td>\n",
       "    </tr>\n",
       "  </tbody>\n",
       "</table>\n",
       "<p>742 rows × 2 columns</p>\n",
       "</div>"
      ],
      "text/plain": [
       "                                       Job Description  \\\n",
       "0    Data Scientist\\nLocation: Albuquerque, NM\\nEdu...   \n",
       "1    What You Will Do:\\n\\nI. General Summary\\n\\nThe...   \n",
       "2    KnowBe4, Inc. is a high growth information sec...   \n",
       "3    *Organization and Job ID**\\nJob ID: 310709\\n\\n...   \n",
       "4    Data Scientist\\nAffinity Solutions / Marketing...   \n",
       "..                                                 ...   \n",
       "950  Site Name: USA - Massachusetts - Cambridge\\nPo...   \n",
       "951  THE CHALLENGE\\nEventbrite has a world-class da...   \n",
       "952  The Auton Lab at Carnegie Mellon University is...   \n",
       "953  Data Science ManagerResponsibilities:\\n\\nOvers...   \n",
       "955  Returning Candidate? Log back in to the Career...   \n",
       "\n",
       "                            Extracted Skills  \n",
       "0                   [Excel, Tableau, Python]  \n",
       "1                             [Java, Python]  \n",
       "2                [Excel, SQL, Python, D3.js]  \n",
       "3                                   [Python]  \n",
       "4                              [SQL, Python]  \n",
       "..                                       ...  \n",
       "950                                       []  \n",
       "951  [AWS, Java, Scala, Python, SQL, Hadoop]  \n",
       "952                                       []  \n",
       "953                                       []  \n",
       "955                                 [Python]  \n",
       "\n",
       "[742 rows x 2 columns]"
      ]
     },
     "execution_count": 26,
     "metadata": {},
     "output_type": "execute_result"
    }
   ],
   "source": [
    "df[['Job Description','Extracted Skills']]"
   ]
  },
  {
   "cell_type": "code",
   "execution_count": 27,
   "metadata": {},
   "outputs": [
    {
     "data": {
      "text/plain": [
       "Educational Requirements\n",
       "PhD                                        156\n",
       "Bachelor's Degree                           83\n",
       "Master's Degree                             25\n",
       "Master's Degree, Bachelor's Degree          16\n",
       "Master's Degree, PhD                        10\n",
       "Master's Degree, PhD, Bachelor's Degree      3\n",
       "Name: count, dtype: int64"
      ]
     },
     "execution_count": 27,
     "metadata": {},
     "output_type": "execute_result"
    }
   ],
   "source": [
    "#Checking the Educational requirements in every job description\n",
    "education_requirements = [\n",
    "    \"Master's Degree\",\n",
    "    \"PhD\",\n",
    "    \"Bachelor's Degree\"\n",
    "]\n",
    "def check_education_requirements(job_description):\n",
    "    found_requirements = [req for req in education_requirements if req.lower() in job_description.lower()]\n",
    "    return ', '.join(found_requirements) if found_requirements else None\n",
    "\n",
    "\n",
    "df['Educational Requirements'] = df['Job Description'].apply(check_education_requirements)\n",
    "df['Educational Requirements'].value_counts()"
   ]
  },
  {
   "cell_type": "code",
   "execution_count": 28,
   "metadata": {},
   "outputs": [],
   "source": [
    "df['Company'] = df['Company Name'].apply(lambda x:x.split('\\n')[0])"
   ]
  },
  {
   "cell_type": "code",
   "execution_count": 29,
   "metadata": {},
   "outputs": [],
   "source": [
    "df['State'] = df['Location'].apply(lambda x: x.split(',')[-1])"
   ]
  },
  {
   "cell_type": "code",
   "execution_count": 30,
   "metadata": {},
   "outputs": [],
   "source": [
    "df['Same State'] = df.apply(lambda x: 1 if x.Location == x.Headquarters else 0, axis=1)"
   ]
  },
  {
   "cell_type": "code",
   "execution_count": 31,
   "metadata": {},
   "outputs": [
    {
     "data": {
      "text/plain": [
       "Index(['1001 to 5000 employees', '501 to 1000 employees', '10000+ employees',\n",
       "       '201 to 500 employees', '51 to 200 employees',\n",
       "       '5001 to 10000 employees', '1 to 50 employees', 'Unknown', '-1'],\n",
       "      dtype='object', name='Size')"
      ]
     },
     "execution_count": 31,
     "metadata": {},
     "output_type": "execute_result"
    }
   ],
   "source": [
    "df['Size'].value_counts().index"
   ]
  },
  {
   "cell_type": "code",
   "execution_count": 32,
   "metadata": {},
   "outputs": [],
   "source": [
    "\"\"\"\n",
    "Classifying the company based on the number of employees, as there is \n",
    "a positive correlation exists between company size and employee salaries, indicating that larger companies tend to offer higher compensation.\n",
    "\"\"\"\n",
    "def classify_company_size(size):\n",
    "    if size in ['Unknown', '-1']:\n",
    "        return 'Unknown'\n",
    "    \n",
    "    # Extract numeric values using regex\n",
    "    match = re.findall(r'(\\d+)', size)\n",
    "    \n",
    "    if match:\n",
    "        # Calculate the average size if there are two numbers\n",
    "        if len(match) == 2:\n",
    "            size_value = (int(match[0]) + int(match[1])) / 2\n",
    "        else:\n",
    "            size_value = int(match[0])  # For cases like '10000+ employees'\n",
    "            \n",
    "            # Classify '10000+' as Enterprise\n",
    "            if size_value >= 10000:\n",
    "                return \"Enterprise\"\n",
    "    else:\n",
    "        return 'Unknown'\n",
    "    \n",
    "    # Classify based on the extracted size value\n",
    "    if size_value <= 50:\n",
    "        return \"Micro\"\n",
    "    elif size_value <= 200:\n",
    "        return \"Small\"\n",
    "    elif size_value <= 1000:\n",
    "        return \"Medium\"\n",
    "    elif size_value <= 5000:\n",
    "        return \"Large\"\n",
    "    elif size_value <= 10000:\n",
    "        return \"Very Large\"\n",
    "    \n",
    "    return \"Enterprise\"  # Fallback for any larger sizes\n",
    "\n",
    "# Apply the classification function to the Company Size column\n",
    "df['Classified Size'] = df['Size'].apply(classify_company_size)\n"
   ]
  },
  {
   "cell_type": "code",
   "execution_count": 43,
   "metadata": {},
   "outputs": [
    {
     "data": {
      "text/plain": [
       "Classified Size\n",
       "Medium        251\n",
       "Large         150\n",
       "Enterprise    130\n",
       "Small          94\n",
       "Very Large     76\n",
       "Micro          31\n",
       "Unknown        10\n",
       "Name: count, dtype: int64"
      ]
     },
     "execution_count": 43,
     "metadata": {},
     "output_type": "execute_result"
    }
   ],
   "source": [
    "df['Classified Size'].value_counts()"
   ]
  },
  {
   "cell_type": "code",
   "execution_count": 33,
   "metadata": {},
   "outputs": [
    {
     "data": {
      "text/plain": [
       "Size\n",
       "1001 to 5000 employees     150\n",
       "501 to 1000 employees      134\n",
       "10000+ employees           130\n",
       "201 to 500 employees       117\n",
       "51 to 200 employees         94\n",
       "5001 to 10000 employees     76\n",
       "1 to 50 employees           31\n",
       "Unknown                      9\n",
       "-1                           1\n",
       "Name: count, dtype: int64"
      ]
     },
     "execution_count": 33,
     "metadata": {},
     "output_type": "execute_result"
    }
   ],
   "source": [
    "df['Size'].value_counts()"
   ]
  },
  {
   "cell_type": "code",
   "execution_count": 34,
   "metadata": {},
   "outputs": [],
   "source": [
    "#Extracting the Age of company from Founded column, This will be more useful.\n",
    "df['Age_of_company'] = df.Founded.apply(lambda x : x if x < 1 else 2024 - x)"
   ]
  },
  {
   "cell_type": "code",
   "execution_count": 35,
   "metadata": {},
   "outputs": [],
   "source": [
    "#Extracting the number of Competitors for each company\n",
    "df['Num_Competitors'] = df['Competitors'].apply(lambda x: len(x.split(',')) if x != -1 else 0)"
   ]
  },
  {
   "cell_type": "code",
   "execution_count": 36,
   "metadata": {},
   "outputs": [
    {
     "data": {
      "text/plain": [
       "Num_Competitors\n",
       "1    472\n",
       "3    228\n",
       "2     41\n",
       "4      1\n",
       "Name: count, dtype: int64"
      ]
     },
     "execution_count": 36,
     "metadata": {},
     "output_type": "execute_result"
    }
   ],
   "source": [
    "df['Num_Competitors'].value_counts()"
   ]
  },
  {
   "cell_type": "code",
   "execution_count": 37,
   "metadata": {},
   "outputs": [],
   "source": [
    "# Function to convert revenue to numeric value\n",
    "def convert_revenue(revenue_str):\n",
    "    # Regular expression to extract the numeric values\n",
    "    match = re.findall(r'\\$(\\d+)(?: to \\$(\\d+))? million', revenue_str)\n",
    "    if match:\n",
    "        # Extract lower and upper bounds\n",
    "        lower, upper = match[0]\n",
    "        lower_value = float(lower) * 1_000_000  # Convert to numeric\n",
    "        if upper:  # If there is an upper bound\n",
    "            upper_value = float(upper) * 1_000_000  # Convert to numeric\n",
    "            return (lower_value + upper_value) / 2  # Return average\n",
    "        return lower_value  # Return only lower bound if no upper bound\n",
    "    return np.nan  # Return NaN for unrecognized formats\n",
    "\n",
    "# Apply the function to the Revenue column\n",
    "df['Revenue Numeric'] = df['Revenue'].apply(convert_revenue)"
   ]
  },
  {
   "cell_type": "code",
   "execution_count": 39,
   "metadata": {},
   "outputs": [],
   "source": [
    "df['Type of ownership'] = df['Type of ownership'].str.replace(\"-1\", \"Unknown\")"
   ]
  },
  {
   "cell_type": "code",
   "execution_count": 40,
   "metadata": {},
   "outputs": [
    {
     "data": {
      "text/plain": [
       "Index(['Job Title', 'Salary Estimate', 'Job Description', 'Rating',\n",
       "       'Company Name', 'Location', 'Headquarters', 'Size', 'Founded',\n",
       "       'Type of ownership', 'Industry', 'Sector', 'Revenue', 'Competitors',\n",
       "       'job_simp', 'Salary', 'Hourly_Pay', 'Employer_Provided',\n",
       "       'Maximum Salary', 'Minimum Salary', 'Average Salary', 'python', 'scala',\n",
       "       'java', 'sql', 'scikit-learn', 'tensorflow', 'keras', 'matplotlib',\n",
       "       'tableau', 'powerbi', 'plotly', 'd3.js', 'apache spark', 'hadoop',\n",
       "       'aws', 'google cloud', 'pandas', 'numpy', 'excel', 'Extracted Skills',\n",
       "       'Educational Requirements', 'Company', 'State', 'Same State',\n",
       "       'Classified Size', 'Age_of_company', 'Num_Competitors',\n",
       "       'Revenue Numeric'],\n",
       "      dtype='object')"
      ]
     },
     "execution_count": 40,
     "metadata": {},
     "output_type": "execute_result"
    }
   ],
   "source": [
    "df.columns"
   ]
  },
  {
   "cell_type": "code",
   "execution_count": 41,
   "metadata": {},
   "outputs": [],
   "source": [
    "df.to_csv('Cleaned_Data.csv', index=False)"
   ]
  },
  {
   "cell_type": "code",
   "execution_count": null,
   "metadata": {},
   "outputs": [],
   "source": []
  }
 ],
 "metadata": {
  "kernelspec": {
   "display_name": "Python 3",
   "language": "python",
   "name": "python3"
  },
  "language_info": {
   "codemirror_mode": {
    "name": "ipython",
    "version": 3
   },
   "file_extension": ".py",
   "mimetype": "text/x-python",
   "name": "python",
   "nbconvert_exporter": "python",
   "pygments_lexer": "ipython3",
   "version": "3.11.3"
  }
 },
 "nbformat": 4,
 "nbformat_minor": 2
}
